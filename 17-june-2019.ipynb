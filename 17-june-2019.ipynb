{
 "cells": [
  {
   "cell_type": "code",
   "execution_count": null,
   "metadata": {},
   "outputs": [],
   "source": [
    "#Charsum\n",
    "def charsum(s):\n",
    "   sum=0\n",
    "   \n",
    "   for i in range(0,len(s),1):\n",
    "       sum=sum+((ord(s[i]))-96)\n",
    "   print(sum)\n",
    "   \n",
    "s=input()\n",
    "charsum(s)\n",
    "def fact(n):\n",
    "   f=1\n",
    "   for i in range(1,n+1,1):\n",
    "       f=f*i\n",
    "   print(f)\n",
    "n=int(input())\n",
    "fact(n)"
   ]
  },
  {
   "cell_type": "code",
   "execution_count": null,
   "metadata": {},
   "outputs": [],
   "source": [
    "def countDivisors(i,j,k):\n",
    "   count=0\n",
    "   for h in range(i,j+1,1):\n",
    "       if h%k==0 :\n",
    "           count+=1\n",
    "   print(count)\n",
    "   return\n",
    "s=input()\n",
    "s=s.split()\n",
    "i=int(s[0])\n",
    "j=int(s[1])\n",
    "k=int(s[2])\n",
    "countDivisors(i,j,k)\n",
    "\n"
   ]
  },
  {
   "cell_type": "code",
   "execution_count": null,
   "metadata": {},
   "outputs": [],
   "source": [
    "def palindrome(s):\n",
    "   s1=s[::-1]\n",
    "   if s==s1:\n",
    "       print(\"YES\")\n",
    "   else:\n",
    "       print(\"NO\")\n",
    "s=input()\n",
    "palindrome(s)\n"
   ]
  },
  {
   "cell_type": "code",
   "execution_count": null,
   "metadata": {},
   "outputs": [],
   "source": [
    "def toggle(string):\n",
    "   str=\"\"\n",
    "   for i in range(0,len(string),1):\n",
    "       if string[i].islower() == True:\n",
    "           str=str+string[i].upper()\n",
    "       else:\n",
    "           str=str+string[i].lower()\n",
    "   print(str)\n",
    "string=input()\n",
    "toggle(string)\n"
   ]
  },
  {
   "cell_type": "code",
   "execution_count": null,
   "metadata": {},
   "outputs": [],
   "source": [
    "#two strings\n",
    "n=int(input())\n",
    "for i in range(n):\n",
    "   z=list(input().split(' '))\n",
    "   if sorted(z[0])==sorted(z[1]):\n",
    "       print(\"YES\")\n",
    "   else:\n",
    "       print(\"NO\")\n"
   ]
  }
 ],
 "metadata": {
  "kernelspec": {
   "display_name": "Python 3",
   "language": "python",
   "name": "python3"
  },
  "language_info": {
   "codemirror_mode": {
    "name": "ipython",
    "version": 3
   },
   "file_extension": ".py",
   "mimetype": "text/x-python",
   "name": "python",
   "nbconvert_exporter": "python",
   "pygments_lexer": "ipython3",
   "version": "3.7.3"
  }
 },
 "nbformat": 4,
 "nbformat_minor": 2
}
