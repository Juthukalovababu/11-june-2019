{
 "cells": [
  {
   "cell_type": "markdown",
   "metadata": {},
   "source": [
    "## problem solving and programmig\n",
    "#### date 12-june-2019\n",
    "#### day Objectives\n",
    "##### string slicing\n"
   ]
  },
  {
   "cell_type": "markdown",
   "metadata": {},
   "source": [
    "## String Slicing"
   ]
  },
  {
   "cell_type": "code",
   "execution_count": 36,
   "metadata": {},
   "outputs": [
    {
     "name": "stdout",
     "output_type": "stream",
     "text": [
      "on\n"
     ]
    }
   ],
   "source": [
    "s1 = \"python\"\n",
    "\n",
    "print(s1[4:])"
   ]
  },
  {
   "cell_type": "code",
   "execution_count": 55,
   "metadata": {},
   "outputs": [
    {
     "data": {
      "text/plain": [
       "'o'"
      ]
     },
     "execution_count": 55,
     "metadata": {},
     "output_type": "execute_result"
    }
   ],
   "source": [
    "s1 = \"pythonprogram123\"\n",
    "\n",
    "(s1[len(s1)//2])"
   ]
  },
  {
   "cell_type": "code",
   "execution_count": 2,
   "metadata": {},
   "outputs": [
    {
     "ename": "SyntaxError",
     "evalue": "invalid syntax (<ipython-input-2-31702109f828>, line 1)",
     "output_type": "error",
     "traceback": [
      "\u001b[1;36m  File \u001b[1;32m\"<ipython-input-2-31702109f828>\"\u001b[1;36m, line \u001b[1;32m1\u001b[0m\n\u001b[1;33m    problem solving and programming\u001b[0m\n\u001b[1;37m                  ^\u001b[0m\n\u001b[1;31mSyntaxError\u001b[0m\u001b[1;31m:\u001b[0m invalid syntax\n"
     ]
    }
   ],
   "source": [
    "  problem solving and programming\n",
    "Date 12 june 2019\n",
    "Day objectives\n",
    "# String Slicing\n",
    "In [1]:\n",
    "s1= \"python\"\n",
    "​\n",
    "s1\n",
    "Out[1]:\n",
    "'python'\n",
    "In [2]:\n",
    "s1[0] # Accessing first character in a string\n",
    "Out[2]:\n",
    "'p'\n",
    "In [3]:\n",
    "s1[1] # Accessing second character in a string\n",
    "​\n",
    "Out[3]:\n",
    "'y'\n",
    "In [5]:\n",
    "s1[-1] # Accessing last character in a string\n",
    "Out[5]:\n",
    "'n'\n",
    "In [8]:\n",
    "s1[len(s1)-1] #another way of Accesing the last character in a string\n",
    "Out[8]:\n",
    "'n'\n",
    "In [9]:\n",
    "s1[-2] #Accesing the last before charcter in a given string\n",
    "Out[9]:\n",
    "'o'\n",
    "In [11]:\n",
    "s1[0:2] #Accesing the first two characters \n",
    "Out[11]:\n",
    "'py'\n",
    "In [12]:\n",
    "s1[:-2] #getting except last two characters\n",
    "Out[12]:\n",
    "'pyth'\n",
    "In [13]:\n",
    "s1[-2:] #getting last two characters\n",
    "Out[13]:\n",
    "'on'\n",
    "In [14]:\n",
    "s1[4:] #Accessing all the characters 5th character to end of string \n",
    "Out[14]:\n",
    "'on'\n",
    "In [16]:\n",
    "#Accesing all characters except first and last characters\n",
    "​\n",
    "s1\n",
    "​\n",
    "s1[1:-1]\n",
    "​\n",
    "Out[16]:\n",
    "'ytho'\n",
    "In [23]:\n",
    "#accessing the middle character of a string\n",
    "s1\n",
    "s1[len(s1)//2] #Accessing the middle character of a string\n",
    "Out[23]:\n",
    "'h'\n",
    "In [ ]:\n",
    "    \n",
    "#Revesre of a string\n",
    "s1[-1::-1]"
   ]
  },
  {
   "cell_type": "code",
   "execution_count": 24,
   "metadata": {},
   "outputs": [
    {
     "data": {
      "text/plain": [
       "'pto'"
      ]
     },
     "execution_count": 24,
     "metadata": {},
     "output_type": "execute_result"
    }
   ],
   "source": [
    "#Revesrse of a string\n",
    "s1= \"python\"\n",
    "#s1[-1::-1]\n",
    "#last two digits of a string\n",
    "#s1[-1:-3:-1]\n",
    "#reverse the middle two characters in an even length string\n",
    "s1[::2]"
   ]
  },
  {
   "cell_type": "code",
   "execution_count": 8,
   "metadata": {},
   "outputs": [
    {
     "name": "stdout",
     "output_type": "stream",
     "text": [
      "12 <class 'int'>\n"
     ]
    }
   ],
   "source": [
    "a = 12\n",
    "print(a,type(a))\n"
   ]
  },
  {
   "cell_type": "code",
   "execution_count": 1,
   "metadata": {},
   "outputs": [
    {
     "name": "stdout",
     "output_type": "stream",
     "text": [
      "hello <class 'str'>\n"
     ]
    }
   ],
   "source": [
    "a = 'hello'\n",
    "print(a,type(a))\n"
   ]
  },
  {
   "cell_type": "code",
   "execution_count": null,
   "metadata": {},
   "outputs": [],
   "source": [
    "#reverse of string\n"
   ]
  },
  {
   "cell_type": "markdown",
   "metadata": {},
   "source": [
    "# Functions"
   ]
  },
  {
   "cell_type": "code",
   "execution_count": 40,
   "metadata": {},
   "outputs": [],
   "source": [
    "def reverseString(s):\n",
    "#def palindrome(s):\n",
    "    if s == s[::-1]:\n",
    "        return True\n",
    "    else:\n",
    "        return False"
   ]
  },
  {
   "cell_type": "code",
   "execution_count": 47,
   "metadata": {},
   "outputs": [
    {
     "ename": "NameError",
     "evalue": "name 'countsDigits' is not defined",
     "output_type": "error",
     "traceback": [
      "\u001b[1;31m---------------------------------------------------------------------------\u001b[0m",
      "\u001b[1;31mNameError\u001b[0m                                 Traceback (most recent call last)",
      "\u001b[1;32m<ipython-input-47-44519dc1bc3d>\u001b[0m in \u001b[0;36m<module>\u001b[1;34m\u001b[0m\n\u001b[0;32m      2\u001b[0m \u001b[1;32mdef\u001b[0m \u001b[0mcountDigits\u001b[0m\u001b[1;33m(\u001b[0m\u001b[0mn\u001b[0m\u001b[1;33m)\u001b[0m\u001b[1;33m:\u001b[0m\u001b[1;33m\u001b[0m\u001b[1;33m\u001b[0m\u001b[0m\n\u001b[0;32m      3\u001b[0m     \u001b[1;32mreturn\u001b[0m \u001b[0mlen\u001b[0m\u001b[1;33m(\u001b[0m\u001b[0mstr\u001b[0m\u001b[1;33m(\u001b[0m\u001b[0mn\u001b[0m\u001b[1;33m)\u001b[0m\u001b[1;33m)\u001b[0m\u001b[1;33m\u001b[0m\u001b[1;33m\u001b[0m\u001b[0m\n\u001b[1;32m----> 4\u001b[1;33m \u001b[0mcountsDigits\u001b[0m\u001b[1;33m(\u001b[0m\u001b[1;36m123546\u001b[0m\u001b[1;33m)\u001b[0m\u001b[1;33m\u001b[0m\u001b[1;33m\u001b[0m\u001b[0m\n\u001b[0m",
      "\u001b[1;31mNameError\u001b[0m: name 'countsDigits' is not defined"
     ]
    }
   ],
   "source": [
    "()#funtion to count the number of digits in a given number?\n",
    "def countDigits(n):\n",
    "    return len(str(n))\n",
    "countsDigits(123546)"
   ]
  },
  {
   "cell_type": "code",
   "execution_count": 64,
   "metadata": {},
   "outputs": [
    {
     "name": "stdout",
     "output_type": "stream",
     "text": [
      "enter the first number2\n",
      "enter the second number1\n",
      "enter the third number4\n",
      "enter the fourth number3\n",
      "4\n"
     ]
    }
   ],
   "source": [
    "#find the gretest of 4 numbers\n",
    "n1=input(\"enter the first number\")\n",
    "n2=input(\"enter the second number\")\n",
    "n3=input(\"enter the third number\")\n",
    "n4=input(\"enter the fourth number\")\n",
    "print(max(n1,n2,n3,n4))"
   ]
  },
  {
   "cell_type": "markdown",
   "metadata": {},
   "source": [
    "## lteration\n",
    "1\n",
    "For\n",
    "\n",
    "2 \n",
    "while\n"
   ]
  },
  {
   "cell_type": "code",
   "execution_count": null,
   "metadata": {},
   "outputs": [],
   "source": []
  },
  {
   "cell_type": "code",
   "execution_count": 54,
   "metadata": {},
   "outputs": [
    {
     "name": "stdout",
     "output_type": "stream",
     "text": [
      "1 2 3 4 5 6 7 8 9 10 11 12 13 14 15 16 17 18 19 20 21 22 23 24 25 26 27 28 29 30 "
     ]
    }
   ],
   "source": [
    "#print n natural numbers\n",
    "def printNNaturalNumbers(n):\n",
    "    for counter in range(1, n+1):\n",
    "        print(counter, end=\" \")\n",
    "    return\n",
    "printNNaturalNumbers(30)"
   ]
  },
  {
   "cell_type": "code",
   "execution_count": 58,
   "metadata": {},
   "outputs": [
    {
     "name": "stdout",
     "output_type": "stream",
     "text": [
      "0 1 2 3 4 5 6 7 8 9 10 11 12 13 14 15 16 17 18 19 20 21 22 23 24 25 26 27 28 29 30 "
     ]
    }
   ],
   "source": [
    "def printNprimeNumbers(n):\n",
    "    for counter in range(2^n - 1):\n",
    "        print(counter, end=\" \")\n",
    "    return\n",
    "printNprimeNumbers(30)"
   ]
  },
  {
   "cell_type": "code",
   "execution_count": 59,
   "metadata": {},
   "outputs": [
    {
     "name": "stdout",
     "output_type": "stream",
     "text": [
      "1 2 3 4 5 6 7 8 9 "
     ]
    }
   ],
   "source": [
    "#function to print n natural numbers using a while loop\n",
    "def nNaturalNumbers(n):\n",
    "    counter = 1\n",
    "    while counter <=n:\n",
    "        print(counter,end=\" \")\n",
    "        counter = counter + 1\n",
    "    return\n",
    "nNaturalNumbers(9)"
   ]
  },
  {
   "cell_type": "code",
   "execution_count": 72,
   "metadata": {},
   "outputs": [
    {
     "name": "stdout",
     "output_type": "stream",
     "text": [
      "12\n",
      "18\n",
      "24\n"
     ]
    }
   ],
   "source": [
    "#function  to print all numbers divisable by 6\n",
    "#and not a factor of 100 in a given range(lb,ub)inclusive\n",
    "def printAllNum(lb,ub):\n",
    "   i=1\n",
    "   for i in range(lb,ub):\n",
    "       if(i%6==0 and 100%i!=0):\n",
    "           print(i)\n",
    "printAllNum(10,30)"
   ]
  },
  {
   "cell_type": "code",
   "execution_count": 77,
   "metadata": {},
   "outputs": [
    {
     "name": "stdout",
     "output_type": "stream",
     "text": [
      "Enter lower range limit:90\n",
      "Enter upper range limit:102\n",
      "90\n",
      "96\n",
      "102\n"
     ]
    }
   ],
   "source": [
    "lower=int(input(\"Enter lower range limit:\"))\n",
    "upper=int(input(\"Enter upper range limit:\"))\n",
    "n=6\n",
    "for i in range(lower,upper+1):\n",
    "    if(i%6==0 and 100%i!=0):\n",
    "        print(i)"
   ]
  },
  {
   "cell_type": "code",
   "execution_count": 91,
   "metadata": {},
   "outputs": [
    {
     "ename": "SyntaxError",
     "evalue": "invalid syntax (<ipython-input-91-2522ff4ed8e9>, line 6)",
     "output_type": "error",
     "traceback": [
      "\u001b[1;36m  File \u001b[1;32m\"<ipython-input-91-2522ff4ed8e9>\"\u001b[1;36m, line \u001b[1;32m6\u001b[0m\n\u001b[1;33m    if i % 2 == 0\u001b[0m\n\u001b[1;37m                        ^\u001b[0m\n\u001b[1;31mSyntaxError\u001b[0m\u001b[1;31m:\u001b[0m invalid syntax\n"
     ]
    }
   ],
   "source": [
    "#find the average of cubes of all even numbers\n",
    "def avgCubeseven(lb,ub):\n",
    "    sum = 0\n",
    "    count = 0\n",
    "    for i in range(1, n + 1): \n",
    "        if i % 2 == 0       \n",
    "            sum += (2 * i) * (2 * i) * (2 * i)\n",
    "            count +=1\n",
    "    return sum / count\n",
    "avgCubeseven(45,89)\n",
    "        "
   ]
  },
  {
   "cell_type": "markdown",
   "metadata": {},
   "source": [
    "##### in a given range(lb,ub) inclusive "
   ]
  },
  {
   "cell_type": "code",
   "execution_count": null,
   "metadata": {},
   "outputs": [],
   "source": [
    "#Function to print all numbers divisible by 6 \n",
    "# and not a factor of 100 in a given range (lb,ub) inclusive\n",
    "\n",
    "def printAllNum(lb,ub):\n",
    "   i=1\n",
    "   for i in range(lb,ub):\n",
    "       if(i%6==0 and 100%i!=0):\n",
    "           print(i)\n",
    "printAllNum(10,20)\n",
    "   \n",
    "2. #function to find the average of all even numbers in a given range(lb,ub) inclusive\n",
    "3.#function to generate the list of factors for a given number i.e 12->1 2 3 4 5 6 12\n",
    "4.#function to create a factorial of given niumber"
   ]
  },
  {
   "cell_type": "code",
   "execution_count": null,
   "metadata": {},
   "outputs": [],
   "source": [
    "# Function to generate the list of factors for a given number\n",
    "# 12 -> 1 2 3 4 6 12"
   ]
  },
  {
   "cell_type": "code",
   "execution_count": null,
   "metadata": {},
   "outputs": [],
   "source": [
    "\n",
    "# Function to calculate the factorial of a given number"
   ]
  },
  {
   "cell_type": "code",
   "execution_count": null,
   "metadata": {},
   "outputs": [],
   "source": [
    "# Function to check if a given number is Prime\n",
    "def is prime(n):\n",
    "    flag = True\n",
    "    for i in range(2,n//2):\n",
    "        if n % i == 0\n",
    "        "
   ]
  },
  {
   "cell_type": "code",
   "execution_count": 1,
   "metadata": {},
   "outputs": [
    {
     "ename": "NameError",
     "evalue": "name 'isprime' is not defined",
     "output_type": "error",
     "traceback": [
      "\u001b[1;31m---------------------------------------------------------------------------\u001b[0m",
      "\u001b[1;31mNameError\u001b[0m                                 Traceback (most recent call last)",
      "\u001b[1;32m<ipython-input-1-f7a946f4cf4a>\u001b[0m in \u001b[0;36m<module>\u001b[1;34m\u001b[0m\n\u001b[0;32m     10\u001b[0m         \u001b[0mseqcount\u001b[0m \u001b[1;33m+=\u001b[0m \u001b[1;36m1\u001b[0m\u001b[1;33m\u001b[0m\u001b[1;33m\u001b[0m\u001b[0m\n\u001b[0;32m     11\u001b[0m     \u001b[1;32mreturn\u001b[0m \u001b[0msum\u001b[0m\u001b[1;33m/\u001b[0m\u001b[0mn\u001b[0m\u001b[1;33m\u001b[0m\u001b[1;33m\u001b[0m\u001b[0m\n\u001b[1;32m---> 12\u001b[1;33m \u001b[0mavgnprimes\u001b[0m\u001b[1;33m(\u001b[0m\u001b[1;36m10\u001b[0m\u001b[1;33m)\u001b[0m\u001b[1;33m\u001b[0m\u001b[1;33m\u001b[0m\u001b[0m\n\u001b[0m",
      "\u001b[1;32m<ipython-input-1-f7a946f4cf4a>\u001b[0m in \u001b[0;36mavgnprimes\u001b[1;34m(n)\u001b[0m\n\u001b[0;32m      5\u001b[0m     \u001b[0mseqcount\u001b[0m \u001b[1;33m=\u001b[0m \u001b[1;36m2\u001b[0m\u001b[1;33m\u001b[0m\u001b[1;33m\u001b[0m\u001b[0m\n\u001b[0;32m      6\u001b[0m     \u001b[1;32mwhile\u001b[0m\u001b[1;33m(\u001b[0m\u001b[0mcount\u001b[0m\u001b[1;33m<\u001b[0m\u001b[0mn\u001b[0m\u001b[1;33m)\u001b[0m\u001b[1;33m:\u001b[0m\u001b[1;33m\u001b[0m\u001b[1;33m\u001b[0m\u001b[0m\n\u001b[1;32m----> 7\u001b[1;33m         \u001b[1;32mif\u001b[0m \u001b[0misprime\u001b[0m \u001b[1;33m(\u001b[0m\u001b[0mseqcount\u001b[0m\u001b[1;33m)\u001b[0m\u001b[1;33m:\u001b[0m\u001b[1;33m\u001b[0m\u001b[1;33m\u001b[0m\u001b[0m\n\u001b[0m\u001b[0;32m      8\u001b[0m             \u001b[0mprimecount\u001b[0m \u001b[1;33m+=\u001b[0m\u001b[1;36m1\u001b[0m\u001b[1;33m\u001b[0m\u001b[1;33m\u001b[0m\u001b[0m\n\u001b[0;32m      9\u001b[0m             \u001b[0msum\u001b[0m \u001b[1;33m+=\u001b[0m\u001b[0mseqcount\u001b[0m\u001b[1;33m\u001b[0m\u001b[1;33m\u001b[0m\u001b[0m\n",
      "\u001b[1;31mNameError\u001b[0m: name 'isprime' is not defined"
     ]
    }
   ],
   "source": [
    "# Function to calculate the average first N Prime numbers\n",
    "def avgnprimes(n):\n",
    "    count = 0\n",
    "    sum = 0\n",
    "    seqcount = 2\n",
    "    while(count<n):\n",
    "        if isprime (seqcount):\n",
    "            primecount +=1\n",
    "            sum +=seqcount\n",
    "        seqcount += 1\n",
    "    return sum/n\n",
    "avgnprimes(10)"
   ]
  },
  {
   "cell_type": "code",
   "execution_count": 105,
   "metadata": {},
   "outputs": [],
   "source": [
    "\n",
    "# Function to generate all Perfect numbers in a given range\n",
    "def isferfect(n):\n",
    "    if factorslist(n) == n:\n",
    "        return True\n",
    "    return False\n",
    "def generatorperfect(lb,ub):\n",
    "    for i in range(lb,ub+1):\n",
    "        if isperfect(i):\n",
    "            printi(i,end=\" \")\n",
    "            return\n",
    "    generatorperfect(1000)\n",
    "        "
   ]
  },
  {
   "cell_type": "code",
   "execution_count": null,
   "metadata": {},
   "outputs": [],
   "source": [
    "#function to   calculate average of product of all factorials in a given range\n"
   ]
  },
  {
   "cell_type": "code",
   "execution_count": 20,
   "metadata": {},
   "outputs": [
    {
     "name": "stdout",
     "output_type": "stream",
     "text": [
      "500 504 508 512 516 520 524 "
     ]
    }
   ],
   "source": [
    "#function to print the alternate values in a given range\n",
    "#[500, 550] -> 500 502 504...550\n",
    "#[500,550] -> 500 501 502 503 504....549\n",
    "#range (500,550) -> 500 501 502 503...549\n",
    "#all set based functions in python have start value\n",
    "def alternativeValues(start, end):\n",
    "    for value in range(start,end+1, 4):\n",
    "        print(value, end=\" \")\n",
    "    return\n",
    "alternativeValues (500, 525)\n"
   ]
  },
  {
   "cell_type": "code",
   "execution_count": 21,
   "metadata": {},
   "outputs": [
    {
     "name": "stdout",
     "output_type": "stream",
     "text": [
      "1 5 9 "
     ]
    }
   ],
   "source": [
    "#reverse order of the function to print the alternate values in a given range\n",
    "def reverseRange(start, end):\n",
    "    for value in range(start,end -1,-1):\n",
    "        print(value, end=\" \")\n",
    "    return\n",
    "alternativeValues (1, 10)\n"
   ]
  },
  {
   "cell_type": "code",
   "execution_count": 27,
   "metadata": {},
   "outputs": [
    {
     "ename": "SyntaxError",
     "evalue": "invalid syntax (<ipython-input-27-cfa80f486549>, line 5)",
     "output_type": "error",
     "traceback": [
      "\u001b[1;36m  File \u001b[1;32m\"<ipython-input-27-cfa80f486549>\"\u001b[1;36m, line \u001b[1;32m5\u001b[0m\n\u001b[1;33m    i % 2 ==0:\u001b[0m\n\u001b[1;37m              ^\u001b[0m\n\u001b[1;31mSyntaxError\u001b[0m\u001b[1;31m:\u001b[0m invalid syntax\n"
     ]
    }
   ],
   "source": [
    "#reverse order odd numbers of the function to print the alternate values in a given range#\n",
    "def reverseOdd(start, end):\n",
    "    for value in range(start,end -1,-1):\n",
    "        print(value, end=\" \")\n",
    "    i % 2 ==0:\n",
    "    return\n",
    "alternativeValues (1, 10)\n"
   ]
  },
  {
   "cell_type": "code",
   "execution_count": 36,
   "metadata": {},
   "outputs": [
    {
     "data": {
      "text/plain": [
       "15756"
      ]
     },
     "execution_count": 36,
     "metadata": {},
     "output_type": "execute_result"
    }
   ],
   "source": [
    "#calculate the sum of given range\n",
    "def sumRange (start, end):\n",
    "    sum = 0\n",
    "    for i in range(start, end+1):\n",
    "        sum=sum+i\n",
    "    return sum\n",
    "sumRange(100,203)\n",
    "        \n",
    "    \n"
   ]
  },
  {
   "cell_type": "code",
   "execution_count": 53,
   "metadata": {},
   "outputs": [
    {
     "ename": "IndentationError",
     "evalue": "unexpected indent (<ipython-input-53-0c346be31215>, line 8)",
     "output_type": "error",
     "traceback": [
      "\u001b[1;36m  File \u001b[1;32m\"<ipython-input-53-0c346be31215>\"\u001b[1;36m, line \u001b[1;32m8\u001b[0m\n\u001b[1;33m    return (sum/count)\u001b[0m\n\u001b[1;37m    ^\u001b[0m\n\u001b[1;31mIndentationError\u001b[0m\u001b[1;31m:\u001b[0m unexpected indent\n"
     ]
    }
   ],
   "source": [
    "#calculate the average of given range\n",
    "def average(a,b):\n",
    "    sum=0\n",
    "    count =0\n",
    "    for i in range(a, b+1):\n",
    "        sum=sum+i    #sum calculation formula\n",
    "        count = count+1 #counting of number of values\n",
    "            return (sum/count)\n",
    "average(34,67):\n"
   ]
  },
  {
   "cell_type": "code",
   "execution_count": null,
   "metadata": {},
   "outputs": [],
   "source": []
  },
  {
   "cell_type": "code",
   "execution_count": null,
   "metadata": {},
   "outputs": [],
   "source": []
  },
  {
   "cell_type": "code",
   "execution_count": null,
   "metadata": {},
   "outputs": [],
   "source": []
  }
 ],
 "metadata": {
  "kernelspec": {
   "display_name": "Python 3",
   "language": "python",
   "name": "python3"
  },
  "language_info": {
   "codemirror_mode": {
    "name": "ipython",
    "version": 3
   },
   "file_extension": ".py",
   "mimetype": "text/x-python",
   "name": "python",
   "nbconvert_exporter": "python",
   "pygments_lexer": "ipython3",
   "version": "3.7.3"
  }
 },
 "nbformat": 4,
 "nbformat_minor": 2
}
