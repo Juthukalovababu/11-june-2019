{
 "cells": [
  {
   "cell_type": "markdown",
   "metadata": {},
   "source": [
    "### Markdown Basics"
   ]
  },
  {
   "cell_type": "markdown",
   "metadata": {},
   "source": [
    "## Markdown Basics\n",
    "\n",
    "* **BOLD**<br>\n",
    "* *Italic*<br>\n",
    "* ***IB*** <br>\n",
    "* **Normal Text**<br>\n",
    "    * Sublist 1\n",
    "    * Sublist 2\n",
    " \n",
    " \n",
    "\n",
    " 1. Ordered list element 1\n",
    " 2. Ordered list element 2\n",
    "\n",
    "\n",
    " A. Order\n",
    " B. Unordered\n",
    " \n",
    " [Jupyter Logo]()\n",
    " \n",
    " \n",
    " - [1]Option 1\n",
    " - [2]Option 2\n",
    " - [x] Option 3\n",
    " - [_]option 4\n",
    " \n",
    " <img src=\"jupyter.png\" style=\"float:left\">\n",
    "\n",
    "[resources](resources.jpg)"
   ]
  },
  {
   "cell_type": "code",
   "execution_count": null,
   "metadata": {},
   "outputs": [],
   "source": []
  },
  {
   "cell_type": "code",
   "execution_count": null,
   "metadata": {},
   "outputs": [],
   "source": []
  },
  {
   "cell_type": "code",
   "execution_count": null,
   "metadata": {},
   "outputs": [],
   "source": []
  },
  {
   "cell_type": "markdown",
   "metadata": {},
   "source": [
    "# Python basics\n",
    "### Python version 3.7"
   ]
  },
  {
   "cell_type": "code",
   "execution_count": 2,
   "metadata": {},
   "outputs": [
    {
     "name": "stdout",
     "output_type": "stream",
     "text": [
      "good afternoon !\n"
     ]
    }
   ],
   "source": [
    "#python comments\n",
    "print(\"good afternoon\",\"!\")\n",
    "\n",
    "\n",
    "\n",
    "\n",
    "\n",
    "\n",
    "\n",
    "\n",
    "\n",
    "\n",
    "\n",
    "\n",
    "\n",
    "\n",
    "\n"
   ]
  },
  {
   "cell_type": "code",
   "execution_count": 2,
   "metadata": {},
   "outputs": [
    {
     "name": "stdout",
     "output_type": "stream",
     "text": [
      "enter the first number34\n",
      "enter the second number23\n",
      "enter the third number22\n",
      "34 is the gretest\n"
     ]
    }
   ],
   "source": [
    "#find the gretest of 3 numbers\n",
    "n1=input(\"enter the first number\")\n",
    "n2=input(\"enter the second number\")\n",
    "n3=input(\"enter the third number\")\n",
    "\n",
    "if n1>n2 and n1>n3:\n",
    "    print(n1,\"is the gretest\")\n",
    "elif n2>n3:\n",
    "     print(n2,\"is the gretest\")\n",
    "else:\n",
    "     print(n3,\"is the gretest\")\n",
    "        \n"
   ]
  },
  {
   "cell_type": "code",
   "execution_count": null,
   "metadata": {},
   "outputs": [],
   "source": [
    "#check if a number exits in a given range(inclusive)\n",
    "\n",
    "n1 =\n",
    "lb =\n",
    "u3 =\n",
    "if n1 > = lb and <= ub\n",
    "   print\n",
    "\n",
    "\n",
    "\n",
    "\n",
    "\n",
    "\n",
    "\n"
   ]
  },
  {
   "cell_type": "code",
   "execution_count": 16,
   "metadata": {},
   "outputs": [
    {
     "name": "stdout",
     "output_type": "stream",
     "text": [
      "Enter a year: 3333\n",
      "3333 is not a leap year\n"
     ]
    }
   ],
   "source": [
    "year = int(input(\"Enter a year: \"))\n",
    "if (year % 4) == 0:\n",
    "   if (year % 100) == 0:\n",
    "       if (year % 400) == 0:\n",
    "           print(\"{0} is a leap year\".format(year))\n",
    "       else:print(\"{0} is not a leap year\".format(year))\n",
    "   else:\n",
    "       print(\"{0} is a leap year\".format(year))\n",
    "else:\n",
    "   print(\"{0} is not a leap year\".format(year))\n"
   ]
  },
  {
   "cell_type": "code",
   "execution_count": 10,
   "metadata": {},
   "outputs": [
    {
     "name": "stdout",
     "output_type": "stream",
     "text": [
      "9\n"
     ]
    }
   ],
   "source": [
    "#calculate if a number of digits in anumber?\n",
    "n1 = 123456674\n",
    "print(len(str(n1)))\n"
   ]
  },
  {
   "cell_type": "code",
   "execution_count": null,
   "metadata": {},
   "outputs": [],
   "source": [
    "#cheak if a number is multiple of 10?\n",
    "\n",
    "\n",
    "\n"
   ]
  },
  {
   "cell_type": "code",
   "execution_count": null,
   "metadata": {},
   "outputs": [],
   "source": [
    "#cheak if a number is factor of 1000\n",
    "\n",
    "\n",
    "\n",
    "\n"
   ]
  },
  {
   "cell_type": "code",
   "execution_count": null,
   "metadata": {},
   "outputs": [],
   "source": [
    "#check if given string is equel to a number?\n",
    "s1 = \"python\"\n",
    "n1 =\"1234\"\n",
    "if str(n1)==s1\n",
    "   print\n",
    "\n"
   ]
  },
  {
   "cell_type": "code",
   "execution_count": 11,
   "metadata": {},
   "outputs": [
    {
     "data": {
      "text/plain": [
       "11.090536506409418"
      ]
     },
     "execution_count": 11,
     "metadata": {},
     "output_type": "execute_result"
    }
   ],
   "source": [
    "#calculate the squere root of a number without functions?\n",
    "n1 =123\n",
    "n1**0.5\n",
    "\n",
    "\n",
    "\n",
    "\n",
    "\n",
    "\n",
    "\n",
    "\n"
   ]
  },
  {
   "cell_type": "code",
   "execution_count": 1,
   "metadata": {},
   "outputs": [
    {
     "ename": "SyntaxError",
     "evalue": "invalid syntax (<ipython-input-1-172d3e344bee>, line 3)",
     "output_type": "error",
     "traceback": [
      "\u001b[1;36m  File \u001b[1;32m\"<ipython-input-1-172d3e344bee>\"\u001b[1;36m, line \u001b[1;32m3\u001b[0m\n\u001b[1;33m    if year % 400==0 and year % 100 !=0 or year % 4==0):\u001b[0m\n\u001b[1;37m                                                      ^\u001b[0m\n\u001b[1;31mSyntaxError\u001b[0m\u001b[1;31m:\u001b[0m invalid syntax\n"
     ]
    }
   ],
   "source": [
    "#calculate the number of nano seconds in a given year(considering leap year logic)?\n",
    "year = int(input(\"Enter a year: \"))\n",
    "if year % 400==0 and year % 100 !=0 or year % 4==0):\n",
    "    print(366 *24*60*60(10**9))\n",
    "else:\n",
    "    print(365*24*60*60(10**9))\n",
    "\n",
    "\n",
    "\n",
    "\n"
   ]
  },
  {
   "cell_type": "code",
   "execution_count": null,
   "metadata": {},
   "outputs": [],
   "source": []
  },
  {
   "cell_type": "code",
   "execution_count": 14,
   "metadata": {},
   "outputs": [
    {
     "data": {
      "text/plain": [
       "2222"
      ]
     },
     "execution_count": 14,
     "metadata": {},
     "output_type": "execute_result"
    }
   ],
   "source": [
    "2222\n"
   ]
  },
  {
   "cell_type": "code",
   "execution_count": null,
   "metadata": {},
   "outputs": [],
   "source": []
  }
 ],
 "metadata": {
  "kernelspec": {
   "display_name": "Python 3",
   "language": "python",
   "name": "python3"
  },
  "language_info": {
   "codemirror_mode": {
    "name": "ipython",
    "version": 3
   },
   "file_extension": ".py",
   "mimetype": "text/x-python",
   "name": "python",
   "nbconvert_exporter": "python",
   "pygments_lexer": "ipython3",
   "version": "3.7.3"
  }
 },
 "nbformat": 4,
 "nbformat_minor": 2
}
