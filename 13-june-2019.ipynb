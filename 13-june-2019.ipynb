{
 "cells": [
  {
   "cell_type": "markdown",
   "metadata": {},
   "source": [
    "# for loop in python"
   ]
  },
  {
   "cell_type": "code",
   "execution_count": null,
   "metadata": {},
   "outputs": [],
   "source": []
  },
  {
   "cell_type": "code",
   "execution_count": null,
   "metadata": {},
   "outputs": [],
   "source": [
    "#reverse "
   ]
  },
  {
   "cell_type": "code",
   "execution_count": 1,
   "metadata": {},
   "outputs": [
    {
     "data": {
      "text/plain": [
       "1464"
      ]
     },
     "execution_count": 1,
     "metadata": {},
     "output_type": "execute_result"
    }
   ],
   "source": [
    "# Function to calculate number of hours for a given period in the format(month1, year1, month2, year2)\n",
    "# numberOfHours(11, 1975, 3, 1999) -> 204504 or 205248\n",
    "# numberOfHours(5, 2019, 6, 2019) -> 1464\n",
    "# 2, 2016 , 6, 2019\n",
    "# \n",
    "#  [all days from feb 2016 to dec 2016, \n",
    "# .  all days for years between 2016+1 and 2019-1,\n",
    "#     all days from Jan to June 2019]\n",
    "#No of hours = 24 * No of days\n",
    "# 3 steps\n",
    "    #1. start month year to end of year - calculate no of days\n",
    "    #2. Calculate days for all years between start year and end year exclusive\n",
    "            # 2017, 2018 - 365 * no of years\n",
    "    #3. calculate days from Jan to end month year\n",
    "\n",
    "# Excluding Feb\n",
    "# First Six months - 1, 3, 4, 5, 6, 7 \n",
    "                    # All odd months have 31 days\n",
    "                    # All even months have 30 days\n",
    "# Last Six months - 8, 9, 10, 11, 12\n",
    "                    # All even months have 31 days\n",
    "                    # All odd months have 30 days\n",
    "        \n",
    "# 31 days - (month <= 7 and month % 2 != 0 and month != 2) || (month >= 8 and month %2 == 0)\n",
    "#                return 31\n",
    "#\n",
    "#            else\n",
    "#                return 30\n",
    "\n",
    "\n",
    "\n",
    "def numberOfDaysMonth(month, year):\n",
    "    if month == 2:\n",
    "        if isLeapYear(year):\n",
    "            return 29\n",
    "        return 28\n",
    "    elif (month <= 7 and month % 2!= 0) or (month >= 8 and month % 2 == 0):\n",
    "        return 31\n",
    "    else:\n",
    "        return 30\n",
    "\n",
    "def daysInStartYear(startmonth, startyear):\n",
    "    days = 0 \n",
    "    for month in range(startmonth, 13):\n",
    "        days += numberOfDaysMonth(month, startyear)\n",
    "    return days    \n",
    "\n",
    "def daysInEndYear(endmonth, endyear):\n",
    "    days = 0\n",
    "    for month in range(1, endmonth+1):\n",
    "        days += numberOfDaysMonth(month, endyear)\n",
    "    return days\n",
    "\n",
    "def numberOfHours(startmonth, startyear, endmonth, endyear):\n",
    "    days = 0\n",
    "    if startyear != endyear:\n",
    "        days += daysInStartYear(startmonth, startyear)\n",
    "        days += daysInEndYear(endmonth, endyear)\n",
    "        if endyear - startyear == 2: # 2019 - 2017\n",
    "            days += numberOfDays(startyear+1, startyear+1)\n",
    "        elif endyear - startyear > 2:\n",
    "            days += numberOfDays(startyear+1, endyear-1)\n",
    "    else:\n",
    "        for month in range(startmonth, endmonth+1):\n",
    "            days += numberOfDaysMonth(month, startyear)\n",
    "    return 24 * days\n",
    "\n",
    "numberOfHours(6, 2018, 7, 2018)"
   ]
  },
  {
   "cell_type": "code",
   "execution_count": 2,
   "metadata": {},
   "outputs": [
    {
     "name": "stdout",
     "output_type": "stream",
     "text": [
      "102 108 114 120 126 132 138 144 150 156 162 168 174 180 186 192 198 "
     ]
    }
   ],
   "source": [
    "# Function to print all numbers divisible by 6\n",
    "# and not a factor of 100 in a given range(lb, ub) inclusive\n",
    "\n",
    "def divisible6(lb, ub):\n",
    "    for i in range(lb, ub+1):\n",
    "        if i % 6 == 0 and 100 % i != 0:\n",
    "            print(i, end=\" \")\n",
    "    return\n",
    "\n",
    "divisible6(100, 200)"
   ]
  },
  {
   "cell_type": "code",
   "execution_count": 3,
   "metadata": {},
   "outputs": [
    {
     "data": {
      "text/plain": [
       "8.0"
      ]
     },
     "execution_count": 3,
     "metadata": {},
     "output_type": "execute_result"
    }
   ],
   "source": [
    "# Function to find the average of cubes of all even numbers\n",
    "# in a given range(lb, ub) inclusive\n",
    "# 1, 10 -> 2, 4, 6, 8, 10 -> avg(8, 64, 216, 64*8, 1000) \n",
    "def avgCubesEven(lb, ub):\n",
    "    sum = 0\n",
    "    count = 0\n",
    "    for i in range(lb, ub + 1):\n",
    "        if i % 2 == 0:\n",
    "            sum += i ** 3\n",
    "            count += 1\n",
    "    return sum/count\n",
    "\n",
    "avgCubesEven(1, 3)"
   ]
  },
  {
   "cell_type": "code",
   "execution_count": 4,
   "metadata": {},
   "outputs": [
    {
     "data": {
      "text/plain": [
       "6"
      ]
     },
     "execution_count": 4,
     "metadata": {},
     "output_type": "execute_result"
    }
   ],
   "source": [
    "# Function to generate the sum of factors for a given number\n",
    "# 12 -> 1 2 3 4 6 12\n",
    "def factorsList(n):\n",
    "    sum = 0\n",
    "    for i in range(1, n//2+1):\n",
    "        if n % i == 0:\n",
    "            sum += i\n",
    "    return sum\n",
    "\n",
    "factorsList(6)"
   ]
  },
  {
   "cell_type": "code",
   "execution_count": 5,
   "metadata": {},
   "outputs": [
    {
     "data": {
      "text/plain": [
       "3628800"
      ]
     },
     "execution_count": 5,
     "metadata": {},
     "output_type": "execute_result"
    }
   ],
   "source": [
    "\n",
    "# Function to calculate the factorial of a given number\n",
    "def factorial(n):\n",
    "    fact = 1\n",
    "    for i in range(2,n+1):\n",
    "        fact *= i\n",
    "    return fact\n",
    "factorial(10)"
   ]
  },
  {
   "cell_type": "code",
   "execution_count": 6,
   "metadata": {},
   "outputs": [
    {
     "data": {
      "text/plain": [
       "False"
      ]
     },
     "execution_count": 6,
     "metadata": {},
     "output_type": "execute_result"
    }
   ],
   "source": [
    "# Function to check if a given number is Prime\n",
    "\n",
    "def isPrime(n):\n",
    "    flag = True\n",
    "    for i in range(2, n//2+1):\n",
    "        if n % i == 0:\n",
    "            flag = False\n",
    "            return flag\n",
    "    return flag\n",
    "\n",
    "isPrime(4)"
   ]
  },
  {
   "cell_type": "code",
   "execution_count": 7,
   "metadata": {},
   "outputs": [
    {
     "data": {
      "text/plain": [
       "12.9"
      ]
     },
     "execution_count": 7,
     "metadata": {},
     "output_type": "execute_result"
    }
   ],
   "source": [
    "# Function to calculate the average of first N Prime numbers\n",
    "\n",
    "def avgNPrimes(n):\n",
    "    primeCount = 0\n",
    "    sum = 0\n",
    "    seqCount = 2\n",
    "    while(primeCount < n):\n",
    "        if isPrime(seqCount):\n",
    "            primeCount += 1\n",
    "            sum += seqCount\n",
    "            #print(seqCount)\n",
    "        seqCount += 1\n",
    "    return sum/n\n",
    "\n",
    "avgNPrimes(10)"
   ]
  },
  {
   "cell_type": "code",
   "execution_count": 8,
   "metadata": {},
   "outputs": [
    {
     "ename": "SyntaxError",
     "evalue": "invalid syntax (<ipython-input-8-5630c2bc8745>, line 1)",
     "output_type": "error",
     "traceback": [
      "\u001b[1;36m  File \u001b[1;32m\"<ipython-input-8-5630c2bc8745>\"\u001b[1;36m, line \u001b[1;32m1\u001b[0m\n\u001b[1;33m    Problem Statement\u001b[0m\n\u001b[1;37m                    ^\u001b[0m\n\u001b[1;31mSyntaxError\u001b[0m\u001b[1;31m:\u001b[0m invalid syntax\n"
     ]
    }
   ],
   "source": [
    "Problem Statement\n",
    "Function to generate all Perfect numbers in a given range\n",
    "\n",
    "Perfect Number - Sum of all its factors is equal to the number itself\n",
    "\n",
    "6 - 1, 2, 3\n",
    "\n",
    "lb, ub"
   ]
  },
  {
   "cell_type": "code",
   "execution_count": 9,
   "metadata": {},
   "outputs": [
    {
     "name": "stdout",
     "output_type": "stream",
     "text": [
      "6 28 496 8128 "
     ]
    }
   ],
   "source": [
    "def isPerfect(n):\n",
    "    if factorsList(n) == n:\n",
    "        return True\n",
    "    return False\n",
    "\n",
    "def generatePerfect(lb, ub):\n",
    "    for i in range(lb, ub+1):\n",
    "        if isPerfect(i):\n",
    "            print(i, end=\" \")\n",
    "    return\n",
    "\n",
    "generatePerfect(1, 10000)"
   ]
  },
  {
   "cell_type": "code",
   "execution_count": null,
   "metadata": {},
   "outputs": [],
   "source": []
  }
 ],
 "metadata": {
  "kernelspec": {
   "display_name": "Python 3",
   "language": "python",
   "name": "python3"
  },
  "language_info": {
   "codemirror_mode": {
    "name": "ipython",
    "version": 3
   },
   "file_extension": ".py",
   "mimetype": "text/x-python",
   "name": "python",
   "nbconvert_exporter": "python",
   "pygments_lexer": "ipython3",
   "version": "3.7.3"
  }
 },
 "nbformat": 4,
 "nbformat_minor": 2
}
