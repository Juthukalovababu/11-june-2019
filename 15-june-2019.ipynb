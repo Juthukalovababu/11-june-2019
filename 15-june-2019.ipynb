{
 "cells": [
  {
   "cell_type": "code",
   "execution_count": 3,
   "metadata": {},
   "outputs": [
    {
     "name": "stdout",
     "output_type": "stream",
     "text": [
      "2\n"
     ]
    }
   ],
   "source": [
    "li=[-5,-2,2,3]\n",
    "\n",
    "li.sort()\n",
    "\n",
    "pl=[]\n",
    "\n",
    "for i in li:\n",
    "   pl.append(abs(i))\n",
    "pl.sort()\n",
    "if pl[0] in li:\n",
    "   print(pl[0])\n",
    "else:\n",
    "   print(-pl[0])\n"
   ]
  },
  {
   "cell_type": "code",
   "execution_count": null,
   "metadata": {},
   "outputs": [],
   "source": [
    "def factorial(n):\n",
    "    fact=1\n",
    "    for i in range(1,n+1):\n",
    "        fact=fact*i\n",
    "    print(fact)\n",
    "n=int(input())\n",
    "factorial(2)\n",
    "        \n"
   ]
  },
  {
   "cell_type": "code",
   "execution_count": null,
   "metadata": {},
   "outputs": [],
   "source": [
    "def factorial(n):\n",
    "    fact=1\n",
    "    for i in range(1,n+1):\n",
    "        fact=fact*1\n",
    "    print(fact)\n",
    "n=int(input())\n",
    "factorial(n)"
   ]
  },
  {
   "cell_type": "code",
   "execution_count": 4,
   "metadata": {},
   "outputs": [
    {
     "name": "stdout",
     "output_type": "stream",
     "text": [
      "the factroial of 5 is: 6\n"
     ]
    }
   ],
   "source": [
    "n=5\n",
    "fact=1\n",
    "\n",
    "for i in range(1,n+1):\n",
    "    fact =fact+1\n",
    "    \n",
    "print(\"the factroial of 5 is:\" ,end=\" \")\n",
    "print(fact)\n"
   ]
  },
  {
   "cell_type": "code",
   "execution_count": 6,
   "metadata": {},
   "outputs": [
    {
     "name": "stdout",
     "output_type": "stream",
     "text": [
      "5\n",
      "120\n"
     ]
    }
   ],
   "source": [
    "def factorial(n):\n",
    "    fact=1\n",
    "    for i in range(1,n+1):\n",
    "        fact=fact*i\n",
    "    print(fact)\n",
    "n=int(input())\n",
    "factorial(n)"
   ]
  },
  {
   "cell_type": "markdown",
   "metadata": {},
   "source": [
    "### promlem play with numbers\n"
   ]
  },
  {
   "cell_type": "code",
   "execution_count": null,
   "metadata": {},
   "outputs": [],
   "source": []
  },
  {
   "cell_type": "code",
   "execution_count": null,
   "metadata": {},
   "outputs": [],
   "source": [
    "#Nearest value to zero\n",
    "li=[-1,-2,2,3]\n",
    "\n",
    "li.sort()\n",
    "\n",
    "pl=[]\n",
    "\n",
    "for i in li:\n",
    "   pl.append(abs(i))\n",
    "pl.sort()\n",
    "if pl[0] in li:\n",
    "   print(pl[0])\n",
    "else:\n",
    "   print(-pl[0])\n"
   ]
  },
  {
   "cell_type": "code",
   "execution_count": null,
   "metadata": {},
   "outputs": [],
   "source": [
    "\n",
    "def palindrome(s):\n",
    "   if s==s[::-1]:\n",
    "       print(\"YES\")\n",
    "   else:\n",
    "       print(\"NO\")\n",
    "       \n",
    "   return\n",
    "s=input()\n",
    "palindrome(s)"
   ]
  },
  {
   "cell_type": "code",
   "execution_count": null,
   "metadata": {},
   "outputs": [],
   "source": [
    "s = \"2 42 8 41\"\n",
    "def minuteDifference(s):\n",
    "   s = s.split()\n",
    "   sh = int(s[0])\n",
    "   sm = int(s[1])\n",
    "   eh = int(s[2])\n",
    "   em = int(s[3])\n",
    "   startminutes = (sh * 60) + sm\n",
    "   endminutes = (eh * 60) + em\n",
    "   return endminutes-startminutes\n",
    "def outputTimeFormat(minutes):\n",
    "   #convert minutes to HH MM\n",
    "   hh = minutes // 60\n",
    "   mm = minutes % 60\n",
    "   print(hh, mm)\n",
    "   return \n",
    "minutes = minuteDifference(s)\n",
    "outputTimeFormat(minutes)\n"
   ]
  },
  {
   "cell_type": "code",
   "execution_count": null,
   "metadata": {},
   "outputs": [],
   "source": [
    "# Function to toggle string characters\n",
    "\n",
    "\n",
    "def toggleString(s):\n",
    "   # convert the string into list of characters\n",
    "   #s = list(s)\n",
    "   ns = []\n",
    "   for c in s:\n",
    "       if c.islower():\n",
    "           ns.append(c.upper())\n",
    "       else:\n",
    "           ns.append(c.lower())\n",
    "   return \"\".join(ns)\n",
    "toggleString(\"AbcdeF\")\n",
    "        \n",
    "# calculate the time difference as total number of minutes\n",
    "# convert the total minutes into HH MM\n"
   ]
  },
  {
   "cell_type": "code",
   "execution_count": null,
   "metadata": {},
   "outputs": [],
   "source": [
    "def "
   ]
  }
 ],
 "metadata": {
  "kernelspec": {
   "display_name": "Python 3",
   "language": "python",
   "name": "python3"
  },
  "language_info": {
   "codemirror_mode": {
    "name": "ipython",
    "version": 3
   },
   "file_extension": ".py",
   "mimetype": "text/x-python",
   "name": "python",
   "nbconvert_exporter": "python",
   "pygments_lexer": "ipython3",
   "version": "3.7.3"
  }
 },
 "nbformat": 4,
 "nbformat_minor": 2
}
